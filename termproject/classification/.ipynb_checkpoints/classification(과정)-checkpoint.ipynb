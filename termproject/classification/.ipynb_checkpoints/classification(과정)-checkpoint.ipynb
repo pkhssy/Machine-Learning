{
 "cells": [
  {
   "cell_type": "code",
   "execution_count": 12,
   "metadata": {},
   "outputs": [],
   "source": [
    "import pandas as pd\n",
    "import numpy as np\n",
    "\n",
    "# 구분자가 ';'인 파일 불러오기\n",
    "df = pd.read_csv(\"bank-full.csv\", sep=';')\n",
    "\n",
    "#df.head(5)"
   ]
  },
  {
   "cell_type": "code",
   "execution_count": 13,
   "metadata": {},
   "outputs": [],
   "source": [
    "# Data Preprocessing\n",
    "#1) Data Restructuring - table vertical decomposition\n",
    "# 사용하지 않는 열 삭제(remove features do not affect on economy)\n",
    "df.drop(['age', 'job', 'marital', 'contact', 'day', 'month', 'duration', 'campaign', 'pdays', 'previous', 'poutcome','y'], axis='columns', inplace=True)\n",
    "\n",
    "df = df.astype({\"balance\" : float}) # 'balance'의 타입을 int에서 float로\n",
    "#print(df.head(5))"
   ]
  },
  {
   "cell_type": "code",
   "execution_count": 14,
   "metadata": {},
   "outputs": [
    {
     "name": "stdout",
     "output_type": "stream",
     "text": [
      "-- missing data before removal -- \n",
      "Total data :  45211\n",
      "-- missing data after removal -- \n",
      "Total data :  43354\n"
     ]
    }
   ],
   "source": [
    "# 2) Data Restructuring - data value changes\n",
    "# cleaning data\n",
    "\n",
    "# missing data : 'unknown' 값을 NaN으로 치환하기\n",
    "df = df.replace(\"unknown\", np.nan)\n",
    "#print(df.head(30))\n",
    "print(\"-- missing data before removal -- \")\n",
    "print(\"Total data : \", len(df))\n",
    "#df.isnull().sum() # missing data 확인\n",
    "df = df.dropna(axis=0) # NaN가 있는 행 삭제\n",
    "print(\"-- missing data after removal -- \")\n",
    "print(\"Total data : \", len(df))\n",
    "#df.isnull().sum() # missing data 확인\n",
    "df = df.reset_index(drop=True) # 인덱스를 재설정"
   ]
  },
  {
   "cell_type": "code",
   "execution_count": 15,
   "metadata": {},
   "outputs": [
    {
     "name": "stdout",
     "output_type": "stream",
     "text": [
      "-- data before removing redundancy --\n",
      "Total data :  43354\n",
      "-- data after removing redundancy --\n",
      "Total data :  19252\n"
     ]
    }
   ],
   "source": [
    "# Redundancy 제거\n",
    "print(\"-- data before removing redundancy --\")\n",
    "print(\"Total data : \", len(df))\n",
    "#print(df.head(20))\n",
    "df = df.drop_duplicates()\n",
    "print(\"-- data after removing redundancy --\")\n",
    "print(\"Total data : \", len(df))\n",
    "#print(df.head(20))"
   ]
  },
  {
   "cell_type": "code",
   "execution_count": 16,
   "metadata": {},
   "outputs": [],
   "source": [
    "# from scipy import stats\n",
    "# import seaborn as sns\n",
    "\n",
    "# zscore_threshold = 10\n",
    "# df[(np.abs(stats.zscore(df)) > zscore_threshold).all(axis=1)].values.ravel()\n",
    "\n",
    "# np.percentile(df[(np.abs(stats.zscore(df)) < zscore_threshold).all(axis=1)].values.ravel(),\\\n",
    "#               [0, 25, 50, 75, 100], interpolation='nearest')\n",
    "# plt.figure(figsize=(7, 6)) # 크기 지정\n",
    "# boxplot = df.boxplot(column=['balance'])\n",
    "# plt.yticks(np.arange(0, 101, step=5))\n",
    "# plt.show()"
   ]
  },
  {
   "cell_type": "code",
   "execution_count": 17,
   "metadata": {},
   "outputs": [],
   "source": [
    "# def outliers_z_score(data):\n",
    "#     threshold = 20\n",
    "#     mean = np.mean(data)\n",
    "#     std = np.std(data)\n",
    "    \n",
    "#     z_scores = [(y-mean)/std for y in data]\n",
    "#     return np.where(np.abs(z_scores)>threshold)\n",
    "\n",
    "# number = 0\n",
    "# print('-- Outliers using ourliers_iqr() --')\n",
    "\n",
    "# for i in outliers_z_score(df.balance)[0]:\n",
    "#     print(df[i:i+1])\n",
    "#     number = number+1\n",
    "    \n",
    "# print('number of outliers : ', number)"
   ]
  },
  {
   "cell_type": "code",
   "execution_count": 18,
   "metadata": {},
   "outputs": [
    {
     "data": {
      "image/png": "[encoded data removed]",
      "text/plain": [
       "<Figure size 432x288 with 1 Axes>"
      ]
     },
     "metadata": {},
     "output_type": "display_data"
    }
   ],
   "source": [
    "import numpy as np\n",
    "import pandas as pd\n",
    "import matplotlib.pyplot as plt\n",
    "import seaborn as sns\n",
    "\n",
    "# Outliers 제거\n",
    "plt.rcParams['figure.figsize'] = [10, 6]\n",
    "%matplotlib inline\n",
    "\n",
    "plt.boxplot(df['balance'])\n",
    "plt.show()\n",
    "\n",
    "df['balance'].quantile([0,0.1,0.2,0.3,0.4,0.5,0.6,0.7,0.8,0.9,1])\n",
    "\n",
    "#print(len(df[df['balance']>40000]))\n",
    "df = df[df['balance']<=40000]\n",
    "#print(len(df[df['balance']<-1000]))\n",
    "df = df[df['balance']>=-1000]"
   ]
  },
  {
   "cell_type": "code",
   "execution_count": 19,
   "metadata": {},
   "outputs": [],
   "source": [
    "# Label Encoding\n",
    "from sklearn.preprocessing import LabelEncoder\n",
    "labelEncoder = LabelEncoder()\n",
    "\n",
    "labelEncoder.fit(df['education'])\n",
    "df['education'] = labelEncoder.transform(df['education'])\n",
    "labelEncoder.fit(df['default'])\n",
    "df['default'] = labelEncoder.transform(df['default'])\n",
    "labelEncoder.fit(df['housing'])\n",
    "df['housing'] = labelEncoder.transform(df['housing'])\n",
    "labelEncoder.fit(df['loan'])\n",
    "df['loan'] = labelEncoder.transform(df['loan'])\n",
    "\n",
    "#print(df)"
   ]
  },
  {
   "cell_type": "code",
   "execution_count": 20,
   "metadata": {},
   "outputs": [],
   "source": [
    "#from sklearn.preprocessing import MinMaxScaler\n",
    "#scaler = MinMaxScaler()\n",
    "#df = scaler.fit_transform(df)\n",
    "#print(df)"
   ]
  },
  {
   "cell_type": "code",
   "execution_count": 21,
   "metadata": {},
   "outputs": [],
   "source": [
    "# split dataset into train and test\n",
    "from sklearn.model_selection import train_test_split\n",
    "feature = df.drop(columns=['education'])\n",
    "label = df['education']\n",
    "\n",
    "# split data to test and training\n",
    "X_train, X_test, y_train, y_test = train_test_split(feature, label, test_size=0.2, random_state=0)"
   ]
  },
  {
   "cell_type": "code",
   "execution_count": 22,
   "metadata": {},
   "outputs": [
    {
     "name": "stdout",
     "output_type": "stream",
     "text": [
      "[[2.90088352e-02 2.14300000e+03 5.29751205e-01 2.26529466e-01]\n",
      " [4.02132824e-02 2.90000017e+01 5.49579000e-01 2.70952601e-01]\n",
      " [4.03563856e-02 1.99998068e+00 5.49832241e-01 2.71519974e-01]\n",
      " ...\n",
      " [3.90684571e-02 2.45000011e+02 5.47553075e-01 2.66413624e-01]\n",
      " [3.27984188e-02 1.42800001e+03 5.36457389e-01 2.41554320e-01]\n",
      " [3.59943893e-02 8.25000011e+02 5.42113094e-01 2.54225631e-01]]\n"
     ]
    }
   ],
   "source": [
    "# PCA\n",
    "from sklearn.decomposition import PCA\n",
    "\n",
    "pca = PCA(n_components=1)\n",
    "feature_low = pca.fit_transform(feature)\n",
    "feature_pca = pca.inverse_transform(feature_low)\n",
    "\n",
    "print(feature_pca)"
   ]
  },
  {
   "cell_type": "code",
   "execution_count": 23,
   "metadata": {},
   "outputs": [
    {
     "name": "stdout",
     "output_type": "stream",
     "text": [
      "[[1.         0.         0.07780309 1.         0.        ]\n",
      " [0.5        0.         0.02545563 1.         0.        ]\n",
      " [0.5        0.         0.02478704 1.         1.        ]\n",
      " ...\n",
      " [0.         0.         0.03080428 0.         0.        ]\n",
      " [1.         0.         0.06009806 0.         0.        ]\n",
      " [1.         0.         0.0451664  0.         0.        ]]\n",
      "cross-val-score \n",
      "[0.24656638 0.22840314 0.22120419 0.22185864 0.22905759 0.22513089\n",
      " 0.22447644 0.21021611 0.22462344 0.20445609]\n",
      "cross-val-score.mean \n",
      "0.224\n"
     ]
    }
   ],
   "source": [
    "from sklearn.tree import DecisionTreeClassifier\n",
    "from sklearn.model_selection import cross_val_score\n",
    "from sklearn.preprocessing import MinMaxScaler\n",
    "scaler = MinMaxScaler()\n",
    "df = scaler.fit_transform(df)\n",
    "print(df)\n",
    "\n",
    "decision = DecisionTreeClassifier(criterion='gini')\n",
    "\n",
    "decision.fit(feature, label)\n",
    "\n",
    "scores = cross_val_score(decision, X_train, y_train, cv=10)\n",
    "print('cross-val-score \\n{}'.format(scores))\n",
    "print('cross-val-score.mean \\n{:.3f}'.format(scores.mean()))"
   ]
  },
  {
   "cell_type": "code",
   "execution_count": 24,
   "metadata": {},
   "outputs": [],
   "source": [
    "from sklearn.model_selection import cross_val_score\n",
    "from sklearn.linear_model import LogisticRegression\n",
    "from sklearn.tree import DecisionTreeClassifier\n",
    "from sklearn.svm import SVC\n",
    "\n",
    "# calculate kfold's accuracy\n",
    "def cal(model):\n",
    "    cv_scores = cross_val_score(model, X, y, cv=10)\n",
    "    print(cv_scores)\n",
    "    print('cv_scores mean: {}'.format(np.mean(cv_scores)))\n",
    "    print()\n",
    "    \n",
    "Dscore = None\n",
    "Dmodel = None\n",
    "\n",
    "#Pick Logistic Regression's max model\n",
    "def update2(model):\n",
    "    global Cmodel, Cscore\n",
    "    cv_scores = cross_val_score(model, X, y, cv=10)\n",
    "    n_score = np.mean(cv_scores)\n",
    "    if (Cscore == None):\n",
    "        Cscore = n_score\n",
    "        Cmodel = model\n",
    "    elif(n_score > Cscore):\n",
    "        Cscore = n_score\n",
    "        Cmodel = model\n",
    "\n",
    "Sscore = None\n",
    "Smodel = None\n",
    "\n",
    "#Pick Decision Tree's max model\n",
    "def update(model):\n",
    "    global Dmodel, Dscore\n",
    "    cv_scores = cross_val_score(model, X, y, cv=10)\n",
    "    n_score = np.mean(cv_scores)\n",
    "    if (Dscore == None):\n",
    "        Dscore = n_score\n",
    "        Dmodel = model\n",
    "    elif(n_score > Dscore):\n",
    "        Dscore = n_score\n",
    "        Dmodel = model\n",
    "\n",
    "Cscore = None\n",
    "Cmodel = None\n",
    "\n",
    "#Pick SVM's max model\n",
    "def update3(model):\n",
    "    global Smodel, Sscore\n",
    "    cv_scores = cross_val_score(model, X, y, cv=10)\n",
    "    n_score = np.mean(cv_scores)\n",
    "    if (Sscore == None):\n",
    "        Sscore = n_score\n",
    "        Smodel = model\n",
    "    elif(n_score > Sscore):\n",
    "        Sscore = n_score\n",
    "        Smodel = model"
   ]
  },
  {
   "cell_type": "code",
   "execution_count": null,
   "metadata": {},
   "outputs": [],
   "source": []
  },
  {
   "cell_type": "code",
   "execution_count": null,
   "metadata": {},
   "outputs": [],
   "source": []
  }
 ],
 "metadata": {
  "kernelspec": {
   "display_name": "Python 3",
   "language": "python",
   "name": "python3"
  },
  "language_info": {
   "codemirror_mode": {
    "name": "ipython",
    "version": 3
   },
   "file_extension": ".py",
   "mimetype": "text/x-python",
   "name": "python",
   "nbconvert_exporter": "python",
   "pygments_lexer": "ipython3",
   "version": "3.6.5"
  }
 },
 "nbformat": 4,
 "nbformat_minor": 2
}
